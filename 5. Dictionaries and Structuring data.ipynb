{
 "cells": [
  {
   "cell_type": "code",
   "execution_count": 1,
   "metadata": {},
   "outputs": [],
   "source": [
    "myCat = {'size': 'fat', 'color': 'gray', 'disposition': 'loud'}"
   ]
  },
  {
   "cell_type": "code",
   "execution_count": 2,
   "metadata": {},
   "outputs": [
    {
     "data": {
      "text/plain": [
       "{'size': 'fat', 'color': 'gray', 'disposition': 'loud'}"
      ]
     },
     "execution_count": 2,
     "metadata": {},
     "output_type": "execute_result"
    }
   ],
   "source": [
    "myCat"
   ]
  },
  {
   "cell_type": "code",
   "execution_count": 3,
   "metadata": {},
   "outputs": [
    {
     "data": {
      "text/plain": [
       "dict_keys(['size', 'color', 'disposition'])"
      ]
     },
     "execution_count": 3,
     "metadata": {},
     "output_type": "execute_result"
    }
   ],
   "source": [
    "myCat.keys()"
   ]
  },
  {
   "cell_type": "code",
   "execution_count": 4,
   "metadata": {},
   "outputs": [
    {
     "data": {
      "text/plain": [
       "dict_values(['fat', 'gray', 'loud'])"
      ]
     },
     "execution_count": 4,
     "metadata": {},
     "output_type": "execute_result"
    }
   ],
   "source": [
    "myCat.values()"
   ]
  },
  {
   "cell_type": "code",
   "execution_count": 6,
   "metadata": {},
   "outputs": [
    {
     "data": {
      "text/plain": [
       "False"
      ]
     },
     "execution_count": 6,
     "metadata": {},
     "output_type": "execute_result"
    }
   ],
   "source": [
    "#order matters for lists\n",
    "spam=['cats', 'dogs']\n",
    "bacon=['dogs', 'cats']\n",
    "spam ==bacon"
   ]
  },
  {
   "cell_type": "code",
   "execution_count": 8,
   "metadata": {},
   "outputs": [
    {
     "data": {
      "text/plain": [
       "True"
      ]
     },
     "execution_count": 8,
     "metadata": {},
     "output_type": "execute_result"
    }
   ],
   "source": [
    "#order doesn't matter for dictionaries\n",
    "d1 = {'name': 'amy', 'age': 29}\n",
    "d2 = {'age': 29, 'name': 'amy'}\n",
    "d1 == d2\n",
    "#that is, the data could be in any order but the 2 dictionaries above are equal"
   ]
  },
  {
   "cell_type": "code",
   "execution_count": 9,
   "metadata": {},
   "outputs": [],
   "source": [
    "#dictionaries can't be sliced because they are not oprdered\n"
   ]
  },
  {
   "cell_type": "code",
   "execution_count": 11,
   "metadata": {},
   "outputs": [
    {
     "data": {
      "text/plain": [
       "'amy'"
      ]
     },
     "execution_count": 11,
     "metadata": {},
     "output_type": "execute_result"
    }
   ],
   "source": [
    "#we can access a dict with a key\n",
    "d1 = {'name': 'amy', 'age': 29}\n",
    "d1['name']"
   ]
  },
  {
   "cell_type": "code",
   "execution_count": null,
   "metadata": {},
   "outputs": [],
   "source": []
  },
  {
   "cell_type": "code",
   "execution_count": null,
   "metadata": {
    "scrolled": false
   },
   "outputs": [],
   "source": [
    "#when accessing a dictionary by key, the key HAS TO BE THERE, or we will get a key error\n",
    "#d1['interests']\n",
    "'''\n",
    "d1['interests']\n",
    "---------------------------------------------------------------------------\n",
    "KeyError                                  Traceback (most recent call last)\n",
    "<ipython-input-12-7012da97c156> in <module>\n",
    "      1 #when accessing a dictionary by key, the key HAS TO BE THERE, or we will get a key error\n",
    "----> 2 d1['interests']\n",
    "\n",
    "KeyError: 'interests'\n",
    "'''"
   ]
  },
  {
   "cell_type": "code",
   "execution_count": 20,
   "metadata": {},
   "outputs": [
    {
     "name": "stdout",
     "output_type": "stream",
     "text": [
      "Enter a name: (blank to quit)\n",
      "\n"
     ]
    }
   ],
   "source": [
    "birthdays = {'Alice': 'Apr 1', 'Bob': 'Dec 12', 'Carol': 'mar 4'}\n",
    "while True:\n",
    "    print('Enter a name: (blank to quit)')\n",
    "    name = input()\n",
    "    if name == '':\n",
    "        break;\n",
    "    if name in birthdays:\n",
    "        print('birthday for ' + name + ' is: ', birthdays[name])\n",
    "    else:\n",
    "        print('we don not have birthday information for ' + name)\n",
    "        print('what is their birthday?')\n",
    "        bday = input()\n",
    "        birthdays[name] = bday #Add a record with key\n",
    "        print('birthday database updated!')"
   ]
  },
  {
   "cell_type": "code",
   "execution_count": 21,
   "metadata": {},
   "outputs": [
    {
     "data": {
      "text/plain": [
       "{'Alice': 'Apr 1', 'Bob': 'Dec 12', 'Carol': 'mar 4'}"
      ]
     },
     "execution_count": 21,
     "metadata": {},
     "output_type": "execute_result"
    }
   ],
   "source": [
    "birthdays"
   ]
  },
  {
   "cell_type": "code",
   "execution_count": 22,
   "metadata": {},
   "outputs": [
    {
     "data": {
      "text/plain": [
       "True"
      ]
     },
     "execution_count": 22,
     "metadata": {},
     "output_type": "execute_result"
    }
   ],
   "source": [
    "birthdays = {'Alice': 'Apr 1', 'Bob': 'Dec 12', 'Carol': 'mar 4'}\n",
    "#check if key exists in dict\n",
    "'Alice' in birthdays"
   ]
  },
  {
   "cell_type": "code",
   "execution_count": 24,
   "metadata": {},
   "outputs": [
    {
     "data": {
      "text/plain": [
       "True"
      ]
     },
     "execution_count": 24,
     "metadata": {},
     "output_type": "execute_result"
    }
   ],
   "source": [
    "#check if value in dict\n",
    "'Apr 1' in birthdays.values()"
   ]
  },
  {
   "cell_type": "code",
   "execution_count": 25,
   "metadata": {},
   "outputs": [
    {
     "data": {
      "text/plain": [
       "True"
      ]
     },
     "execution_count": 25,
     "metadata": {},
     "output_type": "execute_result"
    }
   ],
   "source": [
    "#another way to check for key\n",
    "'Alice' in birthdays.keys()"
   ]
  },
  {
   "cell_type": "code",
   "execution_count": 26,
   "metadata": {},
   "outputs": [
    {
     "data": {
      "text/plain": [
       "dict_keys(['Alice', 'Bob', 'Carol'])"
      ]
     },
     "execution_count": 26,
     "metadata": {},
     "output_type": "execute_result"
    }
   ],
   "source": [
    "#list all keys\n",
    "birthdays.keys()"
   ]
  },
  {
   "cell_type": "code",
   "execution_count": 27,
   "metadata": {},
   "outputs": [
    {
     "data": {
      "text/plain": [
       "dict_values(['Apr 1', 'Dec 12', 'mar 4'])"
      ]
     },
     "execution_count": 27,
     "metadata": {},
     "output_type": "execute_result"
    }
   ],
   "source": [
    "#list all values\n",
    "birthdays.values()"
   ]
  },
  {
   "cell_type": "code",
   "execution_count": 28,
   "metadata": {},
   "outputs": [
    {
     "data": {
      "text/plain": [
       "dict_items([('Alice', 'Apr 1'), ('Bob', 'Dec 12'), ('Carol', 'mar 4')])"
      ]
     },
     "execution_count": 28,
     "metadata": {},
     "output_type": "execute_result"
    }
   ],
   "source": [
    "birthdays.items()"
   ]
  },
  {
   "cell_type": "code",
   "execution_count": 38,
   "metadata": {},
   "outputs": [
    {
     "data": {
      "text/plain": [
       "dict_values(['Apr 1', 'Dec 12', 'mar 4'])"
      ]
     },
     "execution_count": 38,
     "metadata": {},
     "output_type": "execute_result"
    }
   ],
   "source": [
    "# birthdays.values and birthdays.keys are LIST-LIKE, and not actual lists\n",
    "vl = birthdays.values()\n",
    "vl"
   ]
  },
  {
   "cell_type": "code",
   "execution_count": 39,
   "metadata": {},
   "outputs": [
    {
     "data": {
      "text/plain": [
       "['Apr 1', 'Dec 12', 'mar 4']"
      ]
     },
     "execution_count": 39,
     "metadata": {},
     "output_type": "execute_result"
    }
   ],
   "source": [
    "vl = list(birthdays.values())\n",
    "vl"
   ]
  },
  {
   "cell_type": "code",
   "execution_count": 40,
   "metadata": {},
   "outputs": [
    {
     "data": {
      "text/plain": [
       "['Apr 1', 'Dec 12', 'mar 4', 'Oct 31']"
      ]
     },
     "execution_count": 40,
     "metadata": {},
     "output_type": "execute_result"
    }
   ],
   "source": [
    "# we can use it as a list only after converting it to a list.\n",
    "vl.append('Oct 31')\n",
    "vl"
   ]
  },
  {
   "cell_type": "code",
   "execution_count": 41,
   "metadata": {},
   "outputs": [
    {
     "name": "stdout",
     "output_type": "stream",
     "text": [
      "Apr 1\n",
      "Dec 12\n",
      "mar 4\n"
     ]
    }
   ],
   "source": [
    "#print all values using a loop\n",
    "for v in birthdays.values():\n",
    "    print(v)"
   ]
  },
  {
   "cell_type": "code",
   "execution_count": 42,
   "metadata": {},
   "outputs": [
    {
     "name": "stdout",
     "output_type": "stream",
     "text": [
      "Alice\n",
      "Bob\n",
      "Carol\n"
     ]
    }
   ],
   "source": [
    "#print all keys using a loop\n",
    "for k in birthdays.keys():\n",
    "    print(k)"
   ]
  },
  {
   "cell_type": "code",
   "execution_count": 43,
   "metadata": {},
   "outputs": [
    {
     "name": "stdout",
     "output_type": "stream",
     "text": [
      "('Alice', 'Apr 1')\n",
      "('Bob', 'Dec 12')\n",
      "('Carol', 'mar 4')\n"
     ]
    }
   ],
   "source": [
    "#print items (key: value pairs) using a loop\n",
    "for i in birthdays.items():\n",
    "    print(i)"
   ]
  },
  {
   "cell_type": "code",
   "execution_count": 47,
   "metadata": {},
   "outputs": [
    {
     "data": {
      "text/plain": [
       "True"
      ]
     },
     "execution_count": 47,
     "metadata": {},
     "output_type": "execute_result"
    }
   ],
   "source": [
    "#we can look for key:data pairs in a dictionary as follows\n",
    "('Alice', 'Apr 1') in birthdays.items()"
   ]
  },
  {
   "cell_type": "code",
   "execution_count": 54,
   "metadata": {},
   "outputs": [
    {
     "name": "stdout",
     "output_type": "stream",
     "text": [
      "key: Alice value: Apr 1\n",
      "key: Bob value: Dec 12\n",
      "key: Carol value: mar 4\n"
     ]
    }
   ],
   "source": [
    "for k, v in birthdays.items():\n",
    "    print('key: ' + k + ' value: ' + v)"
   ]
  },
  {
   "cell_type": "code",
   "execution_count": 55,
   "metadata": {},
   "outputs": [
    {
     "data": {
      "text/plain": [
       "{'Alice': 'Apr 1', 'Bob': 'Dec 12', 'Carol': 'mar 4'}"
      ]
     },
     "execution_count": 55,
     "metadata": {},
     "output_type": "execute_result"
    }
   ],
   "source": [
    "birthdays"
   ]
  },
  {
   "cell_type": "code",
   "execution_count": 57,
   "metadata": {},
   "outputs": [
    {
     "data": {
      "text/plain": [
       "{'apples': 5, 'plates': 20, 'oranges': 15}"
      ]
     },
     "execution_count": 57,
     "metadata": {},
     "output_type": "execute_result"
    }
   ],
   "source": [
    "#get method: takes 2 arguments: the key of the value to retrieve, and a fallback value to return if\n",
    "#the key wasn't found in the dictionary\n",
    "shoplist = {'apples': 5, \"plates\": 20, \"oranges\": 15}\n",
    "shoplist"
   ]
  },
  {
   "cell_type": "code",
   "execution_count": 58,
   "metadata": {},
   "outputs": [
    {
     "data": {
      "text/plain": [
       "5"
      ]
     },
     "execution_count": 58,
     "metadata": {},
     "output_type": "execute_result"
    }
   ],
   "source": [
    "shoplist.get('apples', 0) #get the value corresponding to apples in the dict. if its not available, return 0 default"
   ]
  },
  {
   "cell_type": "code",
   "execution_count": 59,
   "metadata": {},
   "outputs": [
    {
     "data": {
      "text/plain": [
       "44"
      ]
     },
     "execution_count": 59,
     "metadata": {},
     "output_type": "execute_result"
    }
   ],
   "source": [
    "shoplist.get('apricots', 44)"
   ]
  },
  {
   "cell_type": "code",
   "execution_count": 61,
   "metadata": {},
   "outputs": [
    {
     "data": {
      "text/plain": [
       "{'apples': 5, 'plates': 20, 'oranges': 15}"
      ]
     },
     "execution_count": 61,
     "metadata": {},
     "output_type": "execute_result"
    }
   ],
   "source": [
    "shoplist"
   ]
  },
  {
   "cell_type": "code",
   "execution_count": 62,
   "metadata": {
    "scrolled": true
   },
   "outputs": [
    {
     "data": {
      "text/plain": [
       "['apples', 'plates', 'oranges']"
      ]
     },
     "execution_count": 62,
     "metadata": {},
     "output_type": "execute_result"
    }
   ],
   "source": [
    "kl = list(shoplist.keys())\n",
    "kl"
   ]
  },
  {
   "cell_type": "markdown",
   "metadata": {},
   "source": [
    "##### get() method"
   ]
  },
  {
   "cell_type": "code",
   "execution_count": 70,
   "metadata": {},
   "outputs": [
    {
     "name": "stdout",
     "output_type": "stream",
     "text": [
      "apples: 5\n",
      "plates: 20\n",
      "oranges: 15\n"
     ]
    }
   ],
   "source": [
    "for item in kl:\n",
    "    print(item + ': ' +str(shoplist.get(item, 99)))"
   ]
  },
  {
   "cell_type": "markdown",
   "metadata": {},
   "source": [
    "##### print function for dictionary"
   ]
  },
  {
   "cell_type": "code",
   "execution_count": 79,
   "metadata": {},
   "outputs": [],
   "source": [
    "def prd1d(dic):\n",
    "    kl = list(dic.keys())\n",
    "    for item in kl:\n",
    "        print(item + ': ' + str(dic.get(item)))\n",
    "    "
   ]
  },
  {
   "cell_type": "code",
   "execution_count": 80,
   "metadata": {},
   "outputs": [
    {
     "name": "stdout",
     "output_type": "stream",
     "text": [
      "apples: 5\n",
      "plates: 20\n",
      "oranges: 15\n"
     ]
    }
   ],
   "source": [
    "prd1d(shoplist)"
   ]
  },
  {
   "cell_type": "code",
   "execution_count": 81,
   "metadata": {},
   "outputs": [
    {
     "data": {
      "text/plain": [
       "{'apples': 5, 'plates': 20, 'oranges': 15}"
      ]
     },
     "execution_count": 81,
     "metadata": {},
     "output_type": "execute_result"
    }
   ],
   "source": [
    "shoplist"
   ]
  },
  {
   "cell_type": "markdown",
   "metadata": {},
   "source": [
    "##### setdefault() method: only works for keys that don't already exist (not in)\n",
    "used to set default value, also to avoid keyerror when the key is missing "
   ]
  },
  {
   "cell_type": "code",
   "execution_count": 86,
   "metadata": {},
   "outputs": [
    {
     "data": {
      "text/plain": [
       "20"
      ]
     },
     "execution_count": 86,
     "metadata": {},
     "output_type": "execute_result"
    }
   ],
   "source": [
    "shoplist.setdefault('cranberries', 20)"
   ]
  },
  {
   "cell_type": "code",
   "execution_count": 87,
   "metadata": {},
   "outputs": [
    {
     "data": {
      "text/plain": [
       "{'apples': 5, 'plates': 20, 'oranges': 15, 'cranberries': 20}"
      ]
     },
     "execution_count": 87,
     "metadata": {},
     "output_type": "execute_result"
    }
   ],
   "source": [
    "shoplist"
   ]
  },
  {
   "cell_type": "code",
   "execution_count": 88,
   "metadata": {},
   "outputs": [
    {
     "data": {
      "text/plain": [
       "15"
      ]
     },
     "execution_count": 88,
     "metadata": {},
     "output_type": "execute_result"
    }
   ],
   "source": [
    "shoplist.setdefault('oranges', 12)"
   ]
  },
  {
   "cell_type": "code",
   "execution_count": 89,
   "metadata": {},
   "outputs": [
    {
     "name": "stdout",
     "output_type": "stream",
     "text": [
      "{'i': 7, 't': 6, ' ': 13, 'w': 2, 'a': 5, 's': 3, 'b': 1, 'r': 5, 'g': 2, 'h': 3, 'c': 3, 'o': 2, 'l': 3, 'd': 3, 'y': 1, 'n': 4, 'p': 1, ',': 1, 'e': 5, 'k': 2, '.': 1}\n"
     ]
    }
   ],
   "source": [
    "message = 'it was a bright cold day in april, and the clocks were striking thirteen.'\n",
    "count = {}\n",
    "for character in message:\n",
    "    count.setdefault(character, 0)\n",
    "    count[character] +=1\n",
    "print(count)"
   ]
  },
  {
   "cell_type": "markdown",
   "metadata": {},
   "source": [
    "# pretty printing"
   ]
  },
  {
   "cell_type": "code",
   "execution_count": 90,
   "metadata": {},
   "outputs": [],
   "source": [
    "import pprint"
   ]
  },
  {
   "cell_type": "code",
   "execution_count": 94,
   "metadata": {},
   "outputs": [
    {
     "data": {
      "text/plain": [
       "'behold her single in the field, yon solitary highland lass. alone she cuts and binds the grain, and sings a melancholy strain'"
      ]
     },
     "execution_count": 94,
     "metadata": {},
     "output_type": "execute_result"
    }
   ],
   "source": [
    "message = 'behold her single in the field, yon solitary highland lass. alone she cuts and binds the grain, and sings a melancholy strain'\n",
    "message"
   ]
  },
  {
   "cell_type": "code",
   "execution_count": 95,
   "metadata": {},
   "outputs": [
    {
     "name": "stdout",
     "output_type": "stream",
     "text": [
      "{' ': 21,\n",
      " ',': 2,\n",
      " '.': 1,\n",
      " 'a': 10,\n",
      " 'b': 2,\n",
      " 'c': 2,\n",
      " 'd': 6,\n",
      " 'e': 9,\n",
      " 'f': 1,\n",
      " 'g': 4,\n",
      " 'h': 8,\n",
      " 'i': 9,\n",
      " 'l': 9,\n",
      " 'm': 1,\n",
      " 'n': 12,\n",
      " 'o': 5,\n",
      " 'r': 4,\n",
      " 's': 10,\n",
      " 't': 5,\n",
      " 'u': 1,\n",
      " 'y': 3}\n"
     ]
    }
   ],
   "source": [
    "count={}\n",
    "for character in message:\n",
    "    count.setdefault(character, 0)\n",
    "    count[character] +=1\n",
    "    \n",
    "pprint.pprint(count)"
   ]
  },
  {
   "cell_type": "markdown",
   "metadata": {},
   "source": [
    "### pyperclip module - copy and paste from and to clipboard"
   ]
  },
  {
   "cell_type": "code",
   "execution_count": 98,
   "metadata": {},
   "outputs": [],
   "source": [
    "import pyperclip\n"
   ]
  },
  {
   "cell_type": "code",
   "execution_count": 99,
   "metadata": {},
   "outputs": [],
   "source": [
    "pyperclip.copy('hello world')"
   ]
  },
  {
   "cell_type": "code",
   "execution_count": 100,
   "metadata": {},
   "outputs": [
    {
     "data": {
      "text/plain": [
       "'hello world'"
      ]
     },
     "execution_count": 100,
     "metadata": {},
     "output_type": "execute_result"
    }
   ],
   "source": [
    "pyperclip.paste()"
   ]
  },
  {
   "cell_type": "code",
   "execution_count": 107,
   "metadata": {},
   "outputs": [
    {
     "data": {
      "text/plain": [
       "['remember', ' remember', ' the fifth of november.']"
      ]
     },
     "execution_count": 107,
     "metadata": {},
     "output_type": "execute_result"
    }
   ],
   "source": [
    "'remember, remember, the fifth of november.'.split(',')"
   ]
  },
  {
   "cell_type": "code",
   "execution_count": 4,
   "metadata": {},
   "outputs": [],
   "source": [
    "import numpy as nmp\n",
    "board=nmp.array([{\"value\":1, \"likely\": ['123456789']},{\"value\":2, \"likely\": ['123456789']}])"
   ]
  },
  {
   "cell_type": "code",
   "execution_count": 3,
   "metadata": {},
   "outputs": [
    {
     "name": "stdout",
     "output_type": "stream",
     "text": [
      "[{'value': 1, 'likely': ['123456789']}\n",
      " {'value': 1, 'likely': ['123456789']}]\n"
     ]
    }
   ],
   "source": [
    "print(board)"
   ]
  },
  {
   "cell_type": "code",
   "execution_count": null,
   "metadata": {},
   "outputs": [],
   "source": [
    "listofdicts"
   ]
  }
 ],
 "metadata": {
  "kernelspec": {
   "display_name": "Python 3",
   "language": "python",
   "name": "python3"
  },
  "language_info": {
   "codemirror_mode": {
    "name": "ipython",
    "version": 3
   },
   "file_extension": ".py",
   "mimetype": "text/x-python",
   "name": "python",
   "nbconvert_exporter": "python",
   "pygments_lexer": "ipython3",
   "version": "3.8.5"
  }
 },
 "nbformat": 4,
 "nbformat_minor": 4
}
