{
 "cells": [
  {
   "cell_type": "code",
   "execution_count": 10,
   "metadata": {},
   "outputs": [],
   "source": [
    "def prd1d(dic):\n",
    "    kl = list(dic.keys())\n",
    "    for item in kl:\n",
    "        print(item + ': ' + str(dic.get(item)))"
   ]
  },
  {
   "cell_type": "code",
   "execution_count": 15,
   "metadata": {},
   "outputs": [],
   "source": [
    "onecell={'ordinal': 1, 'doneflag':False, 'likely':['123456789'], 'entry': 0}"
   ]
  },
  {
   "cell_type": "code",
   "execution_count": 16,
   "metadata": {},
   "outputs": [
    {
     "data": {
      "text/plain": [
       "{'ordinal': 1, 'doneflag': False, 'likely': ['123456789'], 'entry': 0}"
      ]
     },
     "execution_count": 16,
     "metadata": {},
     "output_type": "execute_result"
    }
   ],
   "source": [
    "onecell"
   ]
  },
  {
   "cell_type": "code",
   "execution_count": 31,
   "metadata": {},
   "outputs": [
    {
     "name": "stdout",
     "output_type": "stream",
     "text": [
      "ordinal: 1\n",
      "doneflag: False\n",
      "likely: ['123456789']\n",
      "entry: 0\n"
     ]
    }
   ],
   "source": [
    "prd1d(onecell)"
   ]
  },
  {
   "cell_type": "code",
   "execution_count": 32,
   "metadata": {},
   "outputs": [
    {
     "data": {
      "text/plain": [
       "dict_keys(['ordinal', 'doneflag', 'likely', 'entry'])"
      ]
     },
     "execution_count": 32,
     "metadata": {},
     "output_type": "execute_result"
    }
   ],
   "source": [
    "onecell.keys()"
   ]
  },
  {
   "cell_type": "code",
   "execution_count": 37,
   "metadata": {
    "scrolled": true
   },
   "outputs": [
    {
     "name": "stdout",
     "output_type": "stream",
     "text": [
      "{0: ['123456789'],\n",
      " 1: ['123456789'],\n",
      " 2: ['123456789'],\n",
      " 3: ['123456789'],\n",
      " 4: ['123456789'],\n",
      " 5: ['123456789'],\n",
      " 6: ['123456789'],\n",
      " 7: ['123456789'],\n",
      " 8: ['123456789']}\n"
     ]
    }
   ],
   "source": [
    "import pprint\n",
    "sudo = {}\n",
    "for i in range(0, 9):\n",
    "    sudo.setdefault(i, ['123456789'])\n",
    "    \n",
    "pprint.pprint(sudo)"
   ]
  },
  {
   "cell_type": "code",
   "execution_count": 58,
   "metadata": {},
   "outputs": [
    {
     "data": {
      "text/plain": [
       "'123456789'"
      ]
     },
     "execution_count": 58,
     "metadata": {},
     "output_type": "execute_result"
    }
   ],
   "source": [
    "''.join(['1','2','3','4','5','6','7','8','9'])"
   ]
  },
  {
   "cell_type": "code",
   "execution_count": 73,
   "metadata": {
    "scrolled": true
   },
   "outputs": [
    {
     "data": {
      "text/plain": [
       "['1', '2', '3', '4', '5', '6', '7', '8', '9']"
      ]
     },
     "execution_count": 73,
     "metadata": {},
     "output_type": "execute_result"
    }
   ],
   "source": [
    "likelystr = '1,2,3,4,5,6,7,8,9'\n",
    "likely = likelystr.split(',')\n",
    "likely"
   ]
  },
  {
   "cell_type": "markdown",
   "metadata": {},
   "source": [
    "### Remove a number from the likely list (because it won't occur again in the same row, column or square)"
   ]
  },
  {
   "cell_type": "code",
   "execution_count": 74,
   "metadata": {},
   "outputs": [],
   "source": [
    "likely.remove('1')"
   ]
  },
  {
   "cell_type": "code",
   "execution_count": 75,
   "metadata": {},
   "outputs": [
    {
     "data": {
      "text/plain": [
       "['2', '3', '4', '5', '6', '7', '8', '9']"
      ]
     },
     "execution_count": 75,
     "metadata": {},
     "output_type": "execute_result"
    }
   ],
   "source": [
    "likely"
   ]
  },
  {
   "cell_type": "code",
   "execution_count": 76,
   "metadata": {},
   "outputs": [],
   "source": [
    "likely.remove(str(5))"
   ]
  },
  {
   "cell_type": "code",
   "execution_count": 77,
   "metadata": {
    "scrolled": false
   },
   "outputs": [
    {
     "data": {
      "text/plain": [
       "['2', '3', '4', '6', '7', '8', '9']"
      ]
     },
     "execution_count": 77,
     "metadata": {},
     "output_type": "execute_result"
    }
   ],
   "source": [
    "likely"
   ]
  },
  {
   "cell_type": "code",
   "execution_count": 78,
   "metadata": {},
   "outputs": [],
   "source": [
    "for i in range(0, 9):\n",
    "    if str(i) in likely:\n",
    "        likely.remove(str(i))"
   ]
  },
  {
   "cell_type": "code",
   "execution_count": 79,
   "metadata": {},
   "outputs": [
    {
     "data": {
      "text/plain": [
       "['9']"
      ]
     },
     "execution_count": 79,
     "metadata": {},
     "output_type": "execute_result"
    }
   ],
   "source": [
    "likely"
   ]
  },
  {
   "cell_type": "code",
   "execution_count": 80,
   "metadata": {},
   "outputs": [
    {
     "data": {
      "text/plain": [
       "1"
      ]
     },
     "execution_count": 80,
     "metadata": {},
     "output_type": "execute_result"
    }
   ],
   "source": [
    "len(likely)"
   ]
  },
  {
   "cell_type": "markdown",
   "metadata": {},
   "source": [
    "### Finalize the value that will occupy the cell"
   ]
  },
  {
   "cell_type": "code",
   "execution_count": 88,
   "metadata": {},
   "outputs": [],
   "source": [
    "if (len(likely) == 1):\n",
    "    #we've nailed the answer candidate\n",
    "    val = int(likely[len(likely) - 1])\n",
    "    likely=[] #clear out the array. it has no further use"
   ]
  },
  {
   "cell_type": "code",
   "execution_count": 89,
   "metadata": {},
   "outputs": [
    {
     "data": {
      "text/plain": [
       "9"
      ]
     },
     "execution_count": 89,
     "metadata": {},
     "output_type": "execute_result"
    }
   ],
   "source": [
    "val"
   ]
  },
  {
   "cell_type": "code",
   "execution_count": 91,
   "metadata": {},
   "outputs": [
    {
     "data": {
      "text/plain": [
       "['a', 'b']"
      ]
     },
     "execution_count": 91,
     "metadata": {},
     "output_type": "execute_result"
    }
   ],
   "source": [
    "testl = ['a','b']\n",
    "testl"
   ]
  },
  {
   "cell_type": "code",
   "execution_count": null,
   "metadata": {},
   "outputs": [],
   "source": [
    "testl"
   ]
  },
  {
   "cell_type": "markdown",
   "metadata": {},
   "source": [
    "### list of dicts (one row)"
   ]
  },
  {
   "cell_type": "code",
   "execution_count": 2,
   "metadata": {},
   "outputs": [],
   "source": [
    "row=[{'value':0, 'doneflag': False, 'likely': ['123456789']}]"
   ]
  },
  {
   "cell_type": "code",
   "execution_count": 3,
   "metadata": {},
   "outputs": [
    {
     "name": "stdout",
     "output_type": "stream",
     "text": [
      "[{'value': 0, 'doneflag': False, 'likely': ['123456789']}]\n"
     ]
    }
   ],
   "source": [
    "print (row)"
   ]
  },
  {
   "cell_type": "code",
   "execution_count": 5,
   "metadata": {},
   "outputs": [],
   "source": [
    "row=[{'value':0, 'doneflag': False, 'likely': ['123456789']}]"
   ]
  },
  {
   "cell_type": "markdown",
   "metadata": {},
   "source": [
    "# row operations"
   ]
  },
  {
   "cell_type": "code",
   "execution_count": 50,
   "metadata": {},
   "outputs": [],
   "source": [
    "row = [{},{},{},{},{},{},{},{},{}]"
   ]
  },
  {
   "cell_type": "code",
   "execution_count": 51,
   "metadata": {},
   "outputs": [],
   "source": [
    "for i in range(0, 9):\n",
    "    row[i]={'val': i+1, 'doneflag': False, 'likely': ['1234567689']}"
   ]
  },
  {
   "cell_type": "code",
   "execution_count": 52,
   "metadata": {
    "scrolled": true
   },
   "outputs": [
    {
     "name": "stdout",
     "output_type": "stream",
     "text": [
      "[{'val': 1, 'doneflag': False, 'likely': ['1234567689']}, {'val': 2, 'doneflag': False, 'likely': ['1234567689']}, {'val': 3, 'doneflag': False, 'likely': ['1234567689']}, {'val': 4, 'doneflag': False, 'likely': ['1234567689']}, {'val': 5, 'doneflag': False, 'likely': ['1234567689']}, {'val': 6, 'doneflag': False, 'likely': ['1234567689']}, {'val': 7, 'doneflag': False, 'likely': ['1234567689']}, {'val': 8, 'doneflag': False, 'likely': ['1234567689']}, {'val': 9, 'doneflag': False, 'likely': ['1234567689']}]\n"
     ]
    }
   ],
   "source": [
    "print(row)"
   ]
  },
  {
   "cell_type": "code",
   "execution_count": 53,
   "metadata": {},
   "outputs": [
    {
     "name": "stdout",
     "output_type": "stream",
     "text": [
      "{'val': 1, 'doneflag': False, 'likely': ['1234567689']}\n",
      "{'val': 2, 'doneflag': False, 'likely': ['1234567689']}\n",
      "{'val': 3, 'doneflag': False, 'likely': ['1234567689']}\n",
      "{'val': 4, 'doneflag': False, 'likely': ['1234567689']}\n",
      "{'val': 5, 'doneflag': False, 'likely': ['1234567689']}\n",
      "{'val': 6, 'doneflag': False, 'likely': ['1234567689']}\n",
      "{'val': 7, 'doneflag': False, 'likely': ['1234567689']}\n",
      "{'val': 8, 'doneflag': False, 'likely': ['1234567689']}\n",
      "{'val': 9, 'doneflag': False, 'likely': ['1234567689']}\n"
     ]
    }
   ],
   "source": [
    "for i in range(0, 9):\n",
    "    print(row[i]) #each dict is accessed this way"
   ]
  },
  {
   "cell_type": "code",
   "execution_count": 54,
   "metadata": {},
   "outputs": [
    {
     "name": "stdout",
     "output_type": "stream",
     "text": [
      "1\n",
      "2\n",
      "3\n",
      "4\n",
      "5\n",
      "6\n",
      "7\n",
      "8\n",
      "9\n"
     ]
    }
   ],
   "source": [
    "for i in range(0, 9):\n",
    "    print(row[i]['val']) #each dict's val key is accessed this way"
   ]
  },
  {
   "cell_type": "code",
   "execution_count": 55,
   "metadata": {},
   "outputs": [],
   "source": [
    "board = [\n",
    "    [{}, {}, {}, {}, {}, {}, {}, {}, {}],\n",
    "    [{}, {}, {}, {}, {}, {}, {}, {}, {}],\n",
    "    [{}, {}, {}, {}, {}, {}, {}, {}, {}],\n",
    "    [{}, {}, {}, {}, {}, {}, {}, {}, {}],\n",
    "    [{}, {}, {}, {}, {}, {}, {}, {}, {}],\n",
    "    [{}, {}, {}, {}, {}, {}, {}, {}, {}],\n",
    "    [{}, {}, {}, {}, {}, {}, {}, {}, {}],\n",
    "    [{}, {}, {}, {}, {}, {}, {}, {}, {}],\n",
    "    [{}, {}, {}, {}, {}, {}, {}, {}, {}]\n",
    "]"
   ]
  },
  {
   "cell_type": "code",
   "execution_count": 98,
   "metadata": {
    "scrolled": true
   },
   "outputs": [
    {
     "name": "stdout",
     "output_type": "stream",
     "text": [
      "[[{'val': 0, 'doneflag': False, 'likely': ['123456789']}, {'val': 1, 'doneflag': False, 'likely': ['123456789']}, {'val': 2, 'doneflag': False, 'likely': ['123456789']}, {'val': 3, 'doneflag': False, 'likely': ['123456789']}, {'val': 4, 'doneflag': False, 'likely': ['123456789']}, {'val': 5, 'doneflag': False, 'likely': ['123456789']}, {'val': 6, 'doneflag': False, 'likely': ['123456789']}, {'val': 7, 'doneflag': False, 'likely': ['123456789']}, {'val': 8, 'doneflag': False, 'likely': ['123456789']}], [{'val': 0, 'doneflag': False, 'likely': ['123456789']}, {'val': 1, 'doneflag': False, 'likely': ['123456789']}, {'val': 2, 'doneflag': False, 'likely': ['123456789']}, {'val': 3, 'doneflag': False, 'likely': ['123456789']}, {'val': 4, 'doneflag': False, 'likely': ['123456789']}, {'val': 5, 'doneflag': False, 'likely': ['123456789']}, {'val': 6, 'doneflag': False, 'likely': ['123456789']}, {'val': 7, 'doneflag': False, 'likely': ['123456789']}, {'val': 8, 'doneflag': False, 'likely': ['123456789']}], [{'val': 0, 'doneflag': False, 'likely': ['123456789']}, {'val': 1, 'doneflag': False, 'likely': ['123456789']}, {'val': 2, 'doneflag': False, 'likely': ['123456789']}, {'val': 3, 'doneflag': False, 'likely': ['123456789']}, {'val': 4, 'doneflag': False, 'likely': ['123456789']}, {'val': 5, 'doneflag': False, 'likely': ['123456789']}, {'val': 6, 'doneflag': False, 'likely': ['123456789']}, {'val': 7, 'doneflag': False, 'likely': ['123456789']}, {'val': 8, 'doneflag': False, 'likely': ['123456789']}], [{'val': 0, 'doneflag': False, 'likely': ['123456789']}, {'val': 1, 'doneflag': False, 'likely': ['123456789']}, {'val': 2, 'doneflag': False, 'likely': ['123456789']}, {'val': 3, 'doneflag': False, 'likely': ['123456789']}, {'val': 4, 'doneflag': False, 'likely': ['123456789']}, {'val': 5, 'doneflag': False, 'likely': ['123456789']}, {'val': 6, 'doneflag': False, 'likely': ['123456789']}, {'val': 7, 'doneflag': False, 'likely': ['123456789']}, {'val': 8, 'doneflag': False, 'likely': ['123456789']}], [{'val': 0, 'doneflag': False, 'likely': ['123456789']}, {'val': 1, 'doneflag': False, 'likely': ['123456789']}, {'val': 2, 'doneflag': False, 'likely': ['123456789']}, {'val': 3, 'doneflag': False, 'likely': ['123456789']}, {'val': 4, 'doneflag': False, 'likely': ['123456789']}, {'val': 5, 'doneflag': False, 'likely': ['123456789']}, {'val': 6, 'doneflag': False, 'likely': ['123456789']}, {'val': 7, 'doneflag': False, 'likely': ['123456789']}, {'val': 8, 'doneflag': False, 'likely': ['123456789']}], [{'val': 0, 'doneflag': False, 'likely': ['123456789']}, {'val': 1, 'doneflag': False, 'likely': ['123456789']}, {'val': 2, 'doneflag': False, 'likely': ['123456789']}, {'val': 3, 'doneflag': False, 'likely': ['123456789']}, {'val': 4, 'doneflag': False, 'likely': ['123456789']}, {'val': 5, 'doneflag': False, 'likely': ['123456789']}, {'val': 6, 'doneflag': False, 'likely': ['123456789']}, {'val': 7, 'doneflag': False, 'likely': ['123456789']}, {'val': 8, 'doneflag': False, 'likely': ['123456789']}], [{'val': 0, 'doneflag': False, 'likely': ['123456789']}, {'val': 1, 'doneflag': False, 'likely': ['123456789']}, {'val': 2, 'doneflag': False, 'likely': ['123456789']}, {'val': 3, 'doneflag': False, 'likely': ['123456789']}, {'val': 4, 'doneflag': False, 'likely': ['123456789']}, {'val': 5, 'doneflag': False, 'likely': ['123456789']}, {'val': 6, 'doneflag': False, 'likely': ['123456789']}, {'val': 7, 'doneflag': False, 'likely': ['123456789']}, {'val': 8, 'doneflag': False, 'likely': ['123456789']}], [{'val': 0, 'doneflag': False, 'likely': ['123456789']}, {'val': 1, 'doneflag': False, 'likely': ['123456789']}, {'val': 2, 'doneflag': False, 'likely': ['123456789']}, {'val': 3, 'doneflag': False, 'likely': ['123456789']}, {'val': 4, 'doneflag': False, 'likely': ['123456789']}, {'val': 5, 'doneflag': False, 'likely': ['123456789']}, {'val': 6, 'doneflag': False, 'likely': ['123456789']}, {'val': 7, 'doneflag': False, 'likely': ['123456789']}, {'val': 8, 'doneflag': False, 'likely': ['123456789']}], [{'val': 0, 'doneflag': False, 'likely': ['123456789']}, {'val': 1, 'doneflag': False, 'likely': ['123456789']}, {'val': 2, 'doneflag': False, 'likely': ['123456789']}, {'val': 3, 'doneflag': False, 'likely': ['123456789']}, {'val': 4, 'doneflag': False, 'likely': ['123456789']}, {'val': 5, 'doneflag': False, 'likely': ['123456789']}, {'val': 6, 'doneflag': False, 'likely': ['123456789']}, {'val': 7, 'doneflag': False, 'likely': ['123456789']}, {'val': 8, 'doneflag': False, 'likely': ['123456789']}]]\n"
     ]
    }
   ],
   "source": [
    "print (board)"
   ]
  },
  {
   "cell_type": "markdown",
   "metadata": {},
   "source": [
    "# board: interpretation initialization"
   ]
  },
  {
   "cell_type": "code",
   "execution_count": 127,
   "metadata": {},
   "outputs": [],
   "source": [
    "def boardinit():\n",
    "    nb=[[{'val': i, 'doneflag': False, 'likely':['123456789']} for i in range(0,9) ] for j in range(0, 9)] #initialize using interpretation\n",
    "    return nb"
   ]
  },
  {
   "cell_type": "code",
   "execution_count": 128,
   "metadata": {},
   "outputs": [],
   "source": [
    "board=boardinit()"
   ]
  },
  {
   "cell_type": "code",
   "execution_count": 129,
   "metadata": {},
   "outputs": [
    {
     "name": "stdout",
     "output_type": "stream",
     "text": [
      "[[{'val': 0, 'doneflag': False, 'likely': ['123456789']}, {'val': 1, 'doneflag': False, 'likely': ['123456789']}, {'val': 2, 'doneflag': False, 'likely': ['123456789']}, {'val': 3, 'doneflag': False, 'likely': ['123456789']}, {'val': 4, 'doneflag': False, 'likely': ['123456789']}, {'val': 5, 'doneflag': False, 'likely': ['123456789']}, {'val': 6, 'doneflag': False, 'likely': ['123456789']}, {'val': 7, 'doneflag': False, 'likely': ['123456789']}, {'val': 8, 'doneflag': False, 'likely': ['123456789']}], [{'val': 0, 'doneflag': False, 'likely': ['123456789']}, {'val': 1, 'doneflag': False, 'likely': ['123456789']}, {'val': 2, 'doneflag': False, 'likely': ['123456789']}, {'val': 3, 'doneflag': False, 'likely': ['123456789']}, {'val': 4, 'doneflag': False, 'likely': ['123456789']}, {'val': 5, 'doneflag': False, 'likely': ['123456789']}, {'val': 6, 'doneflag': False, 'likely': ['123456789']}, {'val': 7, 'doneflag': False, 'likely': ['123456789']}, {'val': 8, 'doneflag': False, 'likely': ['123456789']}], [{'val': 0, 'doneflag': False, 'likely': ['123456789']}, {'val': 1, 'doneflag': False, 'likely': ['123456789']}, {'val': 2, 'doneflag': False, 'likely': ['123456789']}, {'val': 3, 'doneflag': False, 'likely': ['123456789']}, {'val': 4, 'doneflag': False, 'likely': ['123456789']}, {'val': 5, 'doneflag': False, 'likely': ['123456789']}, {'val': 6, 'doneflag': False, 'likely': ['123456789']}, {'val': 7, 'doneflag': False, 'likely': ['123456789']}, {'val': 8, 'doneflag': False, 'likely': ['123456789']}], [{'val': 0, 'doneflag': False, 'likely': ['123456789']}, {'val': 1, 'doneflag': False, 'likely': ['123456789']}, {'val': 2, 'doneflag': False, 'likely': ['123456789']}, {'val': 3, 'doneflag': False, 'likely': ['123456789']}, {'val': 4, 'doneflag': False, 'likely': ['123456789']}, {'val': 5, 'doneflag': False, 'likely': ['123456789']}, {'val': 6, 'doneflag': False, 'likely': ['123456789']}, {'val': 7, 'doneflag': False, 'likely': ['123456789']}, {'val': 8, 'doneflag': False, 'likely': ['123456789']}], [{'val': 0, 'doneflag': False, 'likely': ['123456789']}, {'val': 1, 'doneflag': False, 'likely': ['123456789']}, {'val': 2, 'doneflag': False, 'likely': ['123456789']}, {'val': 3, 'doneflag': False, 'likely': ['123456789']}, {'val': 4, 'doneflag': False, 'likely': ['123456789']}, {'val': 5, 'doneflag': False, 'likely': ['123456789']}, {'val': 6, 'doneflag': False, 'likely': ['123456789']}, {'val': 7, 'doneflag': False, 'likely': ['123456789']}, {'val': 8, 'doneflag': False, 'likely': ['123456789']}], [{'val': 0, 'doneflag': False, 'likely': ['123456789']}, {'val': 1, 'doneflag': False, 'likely': ['123456789']}, {'val': 2, 'doneflag': False, 'likely': ['123456789']}, {'val': 3, 'doneflag': False, 'likely': ['123456789']}, {'val': 4, 'doneflag': False, 'likely': ['123456789']}, {'val': 5, 'doneflag': False, 'likely': ['123456789']}, {'val': 6, 'doneflag': False, 'likely': ['123456789']}, {'val': 7, 'doneflag': False, 'likely': ['123456789']}, {'val': 8, 'doneflag': False, 'likely': ['123456789']}], [{'val': 0, 'doneflag': False, 'likely': ['123456789']}, {'val': 1, 'doneflag': False, 'likely': ['123456789']}, {'val': 2, 'doneflag': False, 'likely': ['123456789']}, {'val': 3, 'doneflag': False, 'likely': ['123456789']}, {'val': 4, 'doneflag': False, 'likely': ['123456789']}, {'val': 5, 'doneflag': False, 'likely': ['123456789']}, {'val': 6, 'doneflag': False, 'likely': ['123456789']}, {'val': 7, 'doneflag': False, 'likely': ['123456789']}, {'val': 8, 'doneflag': False, 'likely': ['123456789']}], [{'val': 0, 'doneflag': False, 'likely': ['123456789']}, {'val': 1, 'doneflag': False, 'likely': ['123456789']}, {'val': 2, 'doneflag': False, 'likely': ['123456789']}, {'val': 3, 'doneflag': False, 'likely': ['123456789']}, {'val': 4, 'doneflag': False, 'likely': ['123456789']}, {'val': 5, 'doneflag': False, 'likely': ['123456789']}, {'val': 6, 'doneflag': False, 'likely': ['123456789']}, {'val': 7, 'doneflag': False, 'likely': ['123456789']}, {'val': 8, 'doneflag': False, 'likely': ['123456789']}], [{'val': 0, 'doneflag': False, 'likely': ['123456789']}, {'val': 1, 'doneflag': False, 'likely': ['123456789']}, {'val': 2, 'doneflag': False, 'likely': ['123456789']}, {'val': 3, 'doneflag': False, 'likely': ['123456789']}, {'val': 4, 'doneflag': False, 'likely': ['123456789']}, {'val': 5, 'doneflag': False, 'likely': ['123456789']}, {'val': 6, 'doneflag': False, 'likely': ['123456789']}, {'val': 7, 'doneflag': False, 'likely': ['123456789']}, {'val': 8, 'doneflag': False, 'likely': ['123456789']}]]\n"
     ]
    }
   ],
   "source": [
    "print(board) #dump entire board"
   ]
  },
  {
   "cell_type": "code",
   "execution_count": 101,
   "metadata": {},
   "outputs": [
    {
     "name": "stdout",
     "output_type": "stream",
     "text": [
      "{'val': 0, 'doneflag': False, 'likely': ['123456789']}\n",
      "{'val': 0, 'doneflag': False, 'likely': ['123456789']}\n",
      "{'val': 0, 'doneflag': False, 'likely': ['123456789']}\n",
      "{'val': 0, 'doneflag': False, 'likely': ['123456789']}\n",
      "{'val': 0, 'doneflag': False, 'likely': ['123456789']}\n",
      "{'val': 0, 'doneflag': False, 'likely': ['123456789']}\n",
      "{'val': 0, 'doneflag': False, 'likely': ['123456789']}\n",
      "{'val': 0, 'doneflag': False, 'likely': ['123456789']}\n",
      "{'val': 0, 'doneflag': False, 'likely': ['123456789']}\n"
     ]
    }
   ],
   "source": [
    "#one column\n",
    "for i in range (0, 9):\n",
    "    print(board[i][0])"
   ]
  },
  {
   "cell_type": "code",
   "execution_count": 102,
   "metadata": {
    "scrolled": true
   },
   "outputs": [
    {
     "name": "stdout",
     "output_type": "stream",
     "text": [
      "{'val': 0, 'doneflag': False, 'likely': ['123456789']}\n",
      "{'val': 1, 'doneflag': False, 'likely': ['123456789']}\n",
      "{'val': 2, 'doneflag': False, 'likely': ['123456789']}\n",
      "{'val': 3, 'doneflag': False, 'likely': ['123456789']}\n",
      "{'val': 4, 'doneflag': False, 'likely': ['123456789']}\n",
      "{'val': 5, 'doneflag': False, 'likely': ['123456789']}\n",
      "{'val': 6, 'doneflag': False, 'likely': ['123456789']}\n",
      "{'val': 7, 'doneflag': False, 'likely': ['123456789']}\n",
      "{'val': 8, 'doneflag': False, 'likely': ['123456789']}\n"
     ]
    }
   ],
   "source": [
    "#one row\n",
    "for i in range(0, 9):\n",
    "    print(board[0][i])"
   ]
  },
  {
   "cell_type": "code",
   "execution_count": 103,
   "metadata": {},
   "outputs": [
    {
     "name": "stdout",
     "output_type": "stream",
     "text": [
      "(0,0)(0,1)(0,2)|(0,3)(0,4)(0,5)|(0,6)(0,7)(0,8)\n",
      "(1,0)(1,1)(1,2)|(1,3)(1,4)(1,5)|(1,6)(1,7)(1,8)\n",
      "(2,0)(2,1)(2,2)|(2,3)(2,4)(2,5)|(2,6)(2,7)(2,8)\n",
      "---------------+---------------+---------------\n",
      "(3,0)(3,1)(3,2)|(3,3)(3,4)(3,5)|(3,6)(3,7)(3,8)\n",
      "(4,0)(4,1)(4,2)|(4,3)(4,4)(4,5)|(4,6)(4,7)(4,8)\n",
      "(5,0)(5,1)(5,2)|(5,3)(5,4)(5,5)|(5,6)(5,7)(5,8)\n",
      "---------------+---------------+---------------\n",
      "(6,0)(6,1)(6,2)|(6,3)(6,4)(6,5)|(6,6)(6,7)(6,8)\n",
      "(7,0)(7,1)(7,2)|(7,3)(7,4)(7,5)|(7,6)(7,7)(7,8)\n",
      "(8,0)(8,1)(8,2)|(8,3)(8,4)(8,5)|(8,6)(8,7)(8,8)\n",
      "\n"
     ]
    }
   ],
   "source": [
    "#print the matrix coordinates for analysis\n",
    "#j describes the row; i describes the column\n",
    "printline = ''\n",
    "for i in range (0, 9):\n",
    "   \n",
    "    for j in range (0, 9):\n",
    "        #print(printline)\n",
    "        printline = printline +  '('+ str(i) + ',' + str(j) +')'\n",
    "\n",
    "        if (j==2) | (j==5):\n",
    "            printline += '|' \n",
    "        if (j==8):           #new row\n",
    "            print(printline)\n",
    "            printline = '' #'\\n'\n",
    "    if (i == 2) | (i == 5):\n",
    "        printline ='---------------+---------------+---------------\\n' \n",
    "print(printline) "
   ]
  },
  {
   "cell_type": "markdown",
   "metadata": {},
   "source": [
    "### Access an entire row on the board"
   ]
  },
  {
   "cell_type": "code",
   "execution_count": 111,
   "metadata": {},
   "outputs": [],
   "source": [
    "def checkrow(rn):\n",
    "    assert (0 <= rn < 9) , \"row number should be in the range(0 - 8)\"\n",
    "    for i in range(0, 9):\n",
    "        print(board[rn][i])"
   ]
  },
  {
   "cell_type": "code",
   "execution_count": 114,
   "metadata": {},
   "outputs": [
    {
     "name": "stdout",
     "output_type": "stream",
     "text": [
      "{'val': 0, 'doneflag': False, 'likely': ['123456789']}\n",
      "{'val': 1, 'doneflag': False, 'likely': ['123456789']}\n",
      "{'val': 2, 'doneflag': False, 'likely': ['123456789']}\n",
      "{'val': 3, 'doneflag': False, 'likely': ['123456789']}\n",
      "{'val': 4, 'doneflag': False, 'likely': ['123456789']}\n",
      "{'val': 5, 'doneflag': False, 'likely': ['123456789']}\n",
      "{'val': 6, 'doneflag': False, 'likely': ['123456789']}\n",
      "{'val': 7, 'doneflag': False, 'likely': ['123456789']}\n",
      "{'val': 8, 'doneflag': False, 'likely': ['123456789']}\n"
     ]
    }
   ],
   "source": [
    "checkrow(0)"
   ]
  },
  {
   "cell_type": "markdown",
   "metadata": {},
   "source": [
    "### Access an entire column"
   ]
  },
  {
   "cell_type": "code",
   "execution_count": 115,
   "metadata": {},
   "outputs": [
    {
     "name": "stdout",
     "output_type": "stream",
     "text": [
      "{'val': 3, 'doneflag': False, 'likely': ['123456789']}\n",
      "{'val': 3, 'doneflag': False, 'likely': ['123456789']}\n",
      "{'val': 3, 'doneflag': False, 'likely': ['123456789']}\n",
      "{'val': 3, 'doneflag': False, 'likely': ['123456789']}\n",
      "{'val': 3, 'doneflag': False, 'likely': ['123456789']}\n",
      "{'val': 3, 'doneflag': False, 'likely': ['123456789']}\n",
      "{'val': 3, 'doneflag': False, 'likely': ['123456789']}\n",
      "{'val': 3, 'doneflag': False, 'likely': ['123456789']}\n",
      "{'val': 3, 'doneflag': False, 'likely': ['123456789']}\n"
     ]
    }
   ],
   "source": [
    "def checkcol(cn):\n",
    "    assert (0 <= cn < 9) , \"column number should be in the range(0 - 8)\"\n",
    "    for i in range(0, 9):\n",
    "        print(board[i][cn])    \n",
    "\n",
    "checkcol(3)\n",
    "    "
   ]
  },
  {
   "cell_type": "code",
   "execution_count": null,
   "metadata": {},
   "outputs": [],
   "source": []
  },
  {
   "cell_type": "markdown",
   "metadata": {},
   "source": [
    "### get input puzzle"
   ]
  },
  {
   "cell_type": "code",
   "execution_count": 220,
   "metadata": {
    "scrolled": true
   },
   "outputs": [
    {
     "data": {
      "text/plain": [
       "'\\nhttps://www.cs.cmu.edu/~mtschant/15414-f07/assignments/hw5.pdf\\nquestion: x6x1x4x5xxx83x56xx2xxxxxxx18xx4x7xx6xx6xxx3xx7xx9x1xx45xxxxxxx2xx72x69xxx4x5x8x7x\\nsolution: 963174258178325649254689731821437596496852317735961824589713462317246985642598173\\n'"
      ]
     },
     "execution_count": 220,
     "metadata": {},
     "output_type": "execute_result"
    }
   ],
   "source": [
    "'''\n",
    "https://www.cs.cmu.edu/~mtschant/15414-f07/assignments/hw5.pdf\n",
    "question: x6x1x4x5xxx83x56xx2xxxxxxx18xx4x7xx6xx6xxx3xx7xx9x1xx45xxxxxxx2xx72x69xxx4x5x8x7x\n",
    "solution: 963174258178325649254689731821437596496852317735961824589713462317246985642598173\n",
    "'''"
   ]
  },
  {
   "cell_type": "code",
   "execution_count": 232,
   "metadata": {},
   "outputs": [],
   "source": [
    "def loadpuzzle(instr):\n",
    "    assert len(instr) == 81, \"input data length not 81. verify again\"\n",
    "    strpos = 0\n",
    "    nb=[[{'val':0, 'doneflag': False, 'likely':[1,2,3,4,5,6,7,8,9]} for i in range(0,9)] for j in range(0, 9)] #initialize using interpretation\n",
    "    for i in range (0, 9):\n",
    "        for j in range (0, 9):\n",
    "            if (instr[strpos] != 'x'):\n",
    "                nb[i][j]['val'] = instr[strpos]\n",
    "                nb[i][j]['doneflag'] = True\n",
    "                nb[i][j]['likely'] = []\n",
    "            strpos += 1\n",
    "    return nb            "
   ]
  },
  {
   "cell_type": "code",
   "execution_count": 233,
   "metadata": {},
   "outputs": [],
   "source": [
    "question = 'x6x1x4x5xxx83x56xx2xxxxxxx18xx4x7xx6xx6xxx3xx7xx9x1xx45xxxxxxx2xx72x69xxx4x5x8x7x'\n",
    "board = loadpuzzle(question)"
   ]
  },
  {
   "cell_type": "code",
   "execution_count": 234,
   "metadata": {},
   "outputs": [],
   "source": [
    "#board  #print the global board"
   ]
  },
  {
   "cell_type": "code",
   "execution_count": 235,
   "metadata": {},
   "outputs": [],
   "source": [
    "def printboard():\n",
    "    printline = ''\n",
    "    for i in range (0, 9):\n",
    "        for j in range (0, 9):\n",
    "            #print(printline)\n",
    "            printline = printline +  str(board[i][j]['val'] )\n",
    "            if (j==2) | (j==5):\n",
    "                printline += '|' \n",
    "            if (j==8):           #new row\n",
    "                print(printline)\n",
    "                printline = '' #'\\n'\n",
    "        if (i == 2) | (i == 5):\n",
    "            printline ='---+---+---\\n' \n",
    "    print(printline) "
   ]
  },
  {
   "cell_type": "code",
   "execution_count": 236,
   "metadata": {},
   "outputs": [
    {
     "name": "stdout",
     "output_type": "stream",
     "text": [
      "060|104|050\n",
      "008|305|600\n",
      "200|000|001\n",
      "---+---+---\n",
      "800|407|006\n",
      "006|000|300\n",
      "700|901|004\n",
      "---+---+---\n",
      "500|000|002\n",
      "007|206|900\n",
      "040|508|070\n",
      "\n"
     ]
    }
   ],
   "source": [
    "printboard()"
   ]
  },
  {
   "cell_type": "code",
   "execution_count": 237,
   "metadata": {},
   "outputs": [
    {
     "data": {
      "text/plain": [
       "'x6x1x4x5xxx83x56xx2xxxxxxx18xx4x7xx6xx6xxx3xx7xx9x1xx45xxxxxxx2xx72x69xxx4x5x8x7x'"
      ]
     },
     "execution_count": 237,
     "metadata": {},
     "output_type": "execute_result"
    }
   ],
   "source": [
    "question"
   ]
  },
  {
   "cell_type": "code",
   "execution_count": 238,
   "metadata": {},
   "outputs": [
    {
     "data": {
      "text/plain": [
       "[[{'val': 0, 'doneflag': False, 'likely': [1, 2, 3, 4, 5, 6, 7, 8, 9]},\n",
       "  {'val': '6', 'doneflag': True, 'likely': []},\n",
       "  {'val': 0, 'doneflag': False, 'likely': [1, 2, 3, 4, 5, 6, 7, 8, 9]},\n",
       "  {'val': '1', 'doneflag': True, 'likely': []},\n",
       "  {'val': 0, 'doneflag': False, 'likely': [1, 2, 3, 4, 5, 6, 7, 8, 9]},\n",
       "  {'val': '4', 'doneflag': True, 'likely': []},\n",
       "  {'val': 0, 'doneflag': False, 'likely': [1, 2, 3, 4, 5, 6, 7, 8, 9]},\n",
       "  {'val': '5', 'doneflag': True, 'likely': []},\n",
       "  {'val': 0, 'doneflag': False, 'likely': [1, 2, 3, 4, 5, 6, 7, 8, 9]}],\n",
       " [{'val': 0, 'doneflag': False, 'likely': [1, 2, 3, 4, 5, 6, 7, 8, 9]},\n",
       "  {'val': 0, 'doneflag': False, 'likely': [1, 2, 3, 4, 5, 6, 7, 8, 9]},\n",
       "  {'val': '8', 'doneflag': True, 'likely': []},\n",
       "  {'val': '3', 'doneflag': True, 'likely': []},\n",
       "  {'val': 0, 'doneflag': False, 'likely': [1, 2, 3, 4, 5, 6, 7, 8, 9]},\n",
       "  {'val': '5', 'doneflag': True, 'likely': []},\n",
       "  {'val': '6', 'doneflag': True, 'likely': []},\n",
       "  {'val': 0, 'doneflag': False, 'likely': [1, 2, 3, 4, 5, 6, 7, 8, 9]},\n",
       "  {'val': 0, 'doneflag': False, 'likely': [1, 2, 3, 4, 5, 6, 7, 8, 9]}],\n",
       " [{'val': '2', 'doneflag': True, 'likely': []},\n",
       "  {'val': 0, 'doneflag': False, 'likely': [1, 2, 3, 4, 5, 6, 7, 8, 9]},\n",
       "  {'val': 0, 'doneflag': False, 'likely': [1, 2, 3, 4, 5, 6, 7, 8, 9]},\n",
       "  {'val': 0, 'doneflag': False, 'likely': [1, 2, 3, 4, 5, 6, 7, 8, 9]},\n",
       "  {'val': 0, 'doneflag': False, 'likely': [1, 2, 3, 4, 5, 6, 7, 8, 9]},\n",
       "  {'val': 0, 'doneflag': False, 'likely': [1, 2, 3, 4, 5, 6, 7, 8, 9]},\n",
       "  {'val': 0, 'doneflag': False, 'likely': [1, 2, 3, 4, 5, 6, 7, 8, 9]},\n",
       "  {'val': 0, 'doneflag': False, 'likely': [1, 2, 3, 4, 5, 6, 7, 8, 9]},\n",
       "  {'val': '1', 'doneflag': True, 'likely': []}],\n",
       " [{'val': '8', 'doneflag': True, 'likely': []},\n",
       "  {'val': 0, 'doneflag': False, 'likely': [1, 2, 3, 4, 5, 6, 7, 8, 9]},\n",
       "  {'val': 0, 'doneflag': False, 'likely': [1, 2, 3, 4, 5, 6, 7, 8, 9]},\n",
       "  {'val': '4', 'doneflag': True, 'likely': []},\n",
       "  {'val': 0, 'doneflag': False, 'likely': [1, 2, 3, 4, 5, 6, 7, 8, 9]},\n",
       "  {'val': '7', 'doneflag': True, 'likely': []},\n",
       "  {'val': 0, 'doneflag': False, 'likely': [1, 2, 3, 4, 5, 6, 7, 8, 9]},\n",
       "  {'val': 0, 'doneflag': False, 'likely': [1, 2, 3, 4, 5, 6, 7, 8, 9]},\n",
       "  {'val': '6', 'doneflag': True, 'likely': []}],\n",
       " [{'val': 0, 'doneflag': False, 'likely': [1, 2, 3, 4, 5, 6, 7, 8, 9]},\n",
       "  {'val': 0, 'doneflag': False, 'likely': [1, 2, 3, 4, 5, 6, 7, 8, 9]},\n",
       "  {'val': '6', 'doneflag': True, 'likely': []},\n",
       "  {'val': 0, 'doneflag': False, 'likely': [1, 2, 3, 4, 5, 6, 7, 8, 9]},\n",
       "  {'val': 0, 'doneflag': False, 'likely': [1, 2, 3, 4, 5, 6, 7, 8, 9]},\n",
       "  {'val': 0, 'doneflag': False, 'likely': [1, 2, 3, 4, 5, 6, 7, 8, 9]},\n",
       "  {'val': '3', 'doneflag': True, 'likely': []},\n",
       "  {'val': 0, 'doneflag': False, 'likely': [1, 2, 3, 4, 5, 6, 7, 8, 9]},\n",
       "  {'val': 0, 'doneflag': False, 'likely': [1, 2, 3, 4, 5, 6, 7, 8, 9]}],\n",
       " [{'val': '7', 'doneflag': True, 'likely': []},\n",
       "  {'val': 0, 'doneflag': False, 'likely': [1, 2, 3, 4, 5, 6, 7, 8, 9]},\n",
       "  {'val': 0, 'doneflag': False, 'likely': [1, 2, 3, 4, 5, 6, 7, 8, 9]},\n",
       "  {'val': '9', 'doneflag': True, 'likely': []},\n",
       "  {'val': 0, 'doneflag': False, 'likely': [1, 2, 3, 4, 5, 6, 7, 8, 9]},\n",
       "  {'val': '1', 'doneflag': True, 'likely': []},\n",
       "  {'val': 0, 'doneflag': False, 'likely': [1, 2, 3, 4, 5, 6, 7, 8, 9]},\n",
       "  {'val': 0, 'doneflag': False, 'likely': [1, 2, 3, 4, 5, 6, 7, 8, 9]},\n",
       "  {'val': '4', 'doneflag': True, 'likely': []}],\n",
       " [{'val': '5', 'doneflag': True, 'likely': []},\n",
       "  {'val': 0, 'doneflag': False, 'likely': [1, 2, 3, 4, 5, 6, 7, 8, 9]},\n",
       "  {'val': 0, 'doneflag': False, 'likely': [1, 2, 3, 4, 5, 6, 7, 8, 9]},\n",
       "  {'val': 0, 'doneflag': False, 'likely': [1, 2, 3, 4, 5, 6, 7, 8, 9]},\n",
       "  {'val': 0, 'doneflag': False, 'likely': [1, 2, 3, 4, 5, 6, 7, 8, 9]},\n",
       "  {'val': 0, 'doneflag': False, 'likely': [1, 2, 3, 4, 5, 6, 7, 8, 9]},\n",
       "  {'val': 0, 'doneflag': False, 'likely': [1, 2, 3, 4, 5, 6, 7, 8, 9]},\n",
       "  {'val': 0, 'doneflag': False, 'likely': [1, 2, 3, 4, 5, 6, 7, 8, 9]},\n",
       "  {'val': '2', 'doneflag': True, 'likely': []}],\n",
       " [{'val': 0, 'doneflag': False, 'likely': [1, 2, 3, 4, 5, 6, 7, 8, 9]},\n",
       "  {'val': 0, 'doneflag': False, 'likely': [1, 2, 3, 4, 5, 6, 7, 8, 9]},\n",
       "  {'val': '7', 'doneflag': True, 'likely': []},\n",
       "  {'val': '2', 'doneflag': True, 'likely': []},\n",
       "  {'val': 0, 'doneflag': False, 'likely': [1, 2, 3, 4, 5, 6, 7, 8, 9]},\n",
       "  {'val': '6', 'doneflag': True, 'likely': []},\n",
       "  {'val': '9', 'doneflag': True, 'likely': []},\n",
       "  {'val': 0, 'doneflag': False, 'likely': [1, 2, 3, 4, 5, 6, 7, 8, 9]},\n",
       "  {'val': 0, 'doneflag': False, 'likely': [1, 2, 3, 4, 5, 6, 7, 8, 9]}],\n",
       " [{'val': 0, 'doneflag': False, 'likely': [1, 2, 3, 4, 5, 6, 7, 8, 9]},\n",
       "  {'val': '4', 'doneflag': True, 'likely': []},\n",
       "  {'val': 0, 'doneflag': False, 'likely': [1, 2, 3, 4, 5, 6, 7, 8, 9]},\n",
       "  {'val': '5', 'doneflag': True, 'likely': []},\n",
       "  {'val': 0, 'doneflag': False, 'likely': [1, 2, 3, 4, 5, 6, 7, 8, 9]},\n",
       "  {'val': '8', 'doneflag': True, 'likely': []},\n",
       "  {'val': 0, 'doneflag': False, 'likely': [1, 2, 3, 4, 5, 6, 7, 8, 9]},\n",
       "  {'val': '7', 'doneflag': True, 'likely': []},\n",
       "  {'val': 0, 'doneflag': False, 'likely': [1, 2, 3, 4, 5, 6, 7, 8, 9]}]]"
      ]
     },
     "execution_count": 238,
     "metadata": {},
     "output_type": "execute_result"
    }
   ],
   "source": [
    "board"
   ]
  },
  {
   "cell_type": "code",
   "execution_count": 239,
   "metadata": {},
   "outputs": [],
   "source": [
    "likely = [1,2,3,4,5,6,7,8,9]\n",
    "likely.remove(2)"
   ]
  },
  {
   "cell_type": "code",
   "execution_count": null,
   "metadata": {},
   "outputs": [],
   "source": []
  }
 ],
 "metadata": {
  "kernelspec": {
   "display_name": "Python 3",
   "language": "python",
   "name": "python3"
  },
  "language_info": {
   "codemirror_mode": {
    "name": "ipython",
    "version": 3
   },
   "file_extension": ".py",
   "mimetype": "text/x-python",
   "name": "python",
   "nbconvert_exporter": "python",
   "pygments_lexer": "ipython3",
   "version": "3.8.5"
  }
 },
 "nbformat": 4,
 "nbformat_minor": 4
}
